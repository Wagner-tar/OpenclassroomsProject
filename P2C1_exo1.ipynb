{
  "nbformat": 4,
  "nbformat_minor": 0,
  "metadata": {
    "colab": {
      "provenance": [],
      "authorship_tag": "ABX9TyN8qJ2PScEokcVhXMP/sbh5",
      "include_colab_link": true
    },
    "kernelspec": {
      "name": "python3",
      "display_name": "Python 3"
    },
    "language_info": {
      "name": "python"
    }
  },
  "cells": [
    {
      "cell_type": "markdown",
      "metadata": {
        "id": "view-in-github",
        "colab_type": "text"
      },
      "source": [
        "<a href=\"https://colab.research.google.com/github/Wagner-tar/OpenclassroomsProject/blob/main/P2C1_exo1.ipynb\" target=\"_parent\"><img src=\"https://colab.research.google.com/assets/colab-badge.svg\" alt=\"Open In Colab\"/></a>"
      ]
    },
    {
      "cell_type": "markdown",
      "source": [
        "# Initiez-vous à Python pour l'analyse de données\n",
        "## Déclarez une variable\n",
        "\n",
        "Exécutez la case suivante qui déclare les variables :\n",
        "\n",
        "* `compteEpargne` correspondant au montant sur le compte épargne\n",
        "* `taux` le taux d'intérêt pour l'année considérée\n",
        "\n",
        "Créez une variable `interets`, qui correspond au montant sur le compte épargne multiplié par le taux d'intérêt (qui lui même doit être divisé par 100, car les taux sont exprimés en pourcentage)."
      ],
      "metadata": {
        "id": "w4Q6vLPHh-u-"
      }
    },
    {
      "cell_type": "markdown",
      "source": [
        "### Corrigé :"
      ],
      "metadata": {
        "id": "r6nQMaELjf2x"
      }
    },
    {
      "cell_type": "code",
      "source": [
        "compteEpargne = 10000\n",
        "taux = 0.75\n",
        "interets = compteEpargne*(taux/100)\n",
        "print(\"Le solde de votre compte était de\", compteEpargne, \"€\\nIl vous a rapporté\", interets, \"€ cette année\")"
      ],
      "metadata": {
        "colab": {
          "base_uri": "https://localhost:8080/"
        },
        "id": "kmXfoGbpf9vP",
        "outputId": "2c817eb5-98e4-4228-c171-b52467685dc3"
      },
      "execution_count": 2,
      "outputs": [
        {
          "output_type": "stream",
          "name": "stdout",
          "text": [
            "Le solde de votre compte était de 10000 €\n",
            "Il vous a rapporté 75.0 € cette année\n"
          ]
        }
      ]
    }
  ]
}